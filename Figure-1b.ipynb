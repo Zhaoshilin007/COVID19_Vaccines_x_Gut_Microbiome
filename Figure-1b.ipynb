{
 "cells": [
  {
   "cell_type": "code",
   "execution_count": 1,
   "id": "29688153-9848-4d53-b09d-c2729469579b",
   "metadata": {},
   "outputs": [],
   "source": [
    "%load_ext rpy2.ipython"
   ]
  },
  {
   "cell_type": "code",
   "execution_count": 2,
   "id": "bb6a1494-1c2f-4abd-aefd-552c8ad4e454",
   "metadata": {},
   "outputs": [
    {
     "name": "stderr",
     "output_type": "stream",
     "text": [
      "R[write to console]: ── Attaching packages ─────────────────────────────────────── tidyverse 1.3.1 ──\n",
      "\n",
      "R[write to console]: ✔ ggplot2 3.3.5     ✔ purrr   0.3.4\n",
      "✔ tibble  3.1.4     ✔ dplyr   1.0.7\n",
      "✔ tidyr   1.1.3     ✔ stringr 1.4.0\n",
      "✔ readr   2.0.1     ✔ forcats 0.5.1\n",
      "\n",
      "R[write to console]: ── Conflicts ────────────────────────────────────────── tidyverse_conflicts() ──\n",
      "✖ dplyr::filter() masks stats::filter()\n",
      "✖ dplyr::lag()    masks stats::lag()\n",
      "\n",
      "R[write to console]: Loading required package: vegan\n",
      "\n",
      "R[write to console]: Loading required package: permute\n",
      "\n",
      "R[write to console]: Loading required package: lattice\n",
      "\n",
      "R[write to console]: This is vegan 2.5-7\n",
      "\n",
      "R[write to console]: Loading required package: cluster\n",
      "\n"
     ]
    }
   ],
   "source": [
    "%%R\n",
    "library(tidyverse)\n",
    "library(ggpubr)\n",
    "library(phyloseq)\n",
    "library(pairwiseAdonis)"
   ]
  },
  {
   "cell_type": "code",
   "execution_count": 60,
   "id": "96c8e1bf-c3fe-4032-80e8-fca75ea5b812",
   "metadata": {},
   "outputs": [],
   "source": [
    "%%R\n",
    "source(\"R/theme.R\")"
   ]
  },
  {
   "cell_type": "code",
   "execution_count": 4,
   "id": "2c4ca764-4cb9-4cf5-bc3b-4c181b856fe5",
   "metadata": {},
   "outputs": [
    {
     "name": "stdout",
     "output_type": "stream",
     "text": [
      "Rows: 547 Columns: 273\n",
      "── Column specification ────────────────────────────────────────────────────────\n",
      "Delimiter: \"\\t\"\n",
      "chr   (1): clade_name\n",
      "dbl (272): VAC003B-M1_S2, VAC005B-M1_S3, VAC007B-M1_S4, VAC010B-M1_S5, VAC01...\n",
      "\n",
      "ℹ Use `spec()` to retrieve the full column specification for this data.\n",
      "ℹ Specify the column types or set `show_col_types = FALSE` to quiet this message.\n",
      "Rows: 272 Columns: 57\n",
      "── Column specification ────────────────────────────────────────────────────────\n",
      "Delimiter: \"\\t\"\n",
      "chr  (7): sample_id, ID, TimePoint, Cohort, Vac_Group, Dose1_AE_num_cat, Dos...\n",
      "dbl (50): all_bray_cluster3, Age, Male, BMI, OWOB, Obese_bin, HTC_bin, DMC_b...\n",
      "\n",
      "ℹ Use `spec()` to retrieve the full column specification for this data.\n",
      "ℹ Specify the column types or set `show_col_types = FALSE` to quiet this message.\n"
     ]
    }
   ],
   "source": [
    "%%R\n",
    "tax_s <- read_tsv(\"data/metaphlan3.merged.abundance.profile.species.272S.tsv\") %>%\n",
    "        column_to_rownames(\"clade_name\")\n",
    "\n",
    "metadata <- read_tsv(\"metadata/samples_metadata_imm_272S.tsv\") %>%\n",
    "    mutate(group=case_when(\n",
    "        TimePoint == \"D0\" & Vac_Group==\"BioNTech\" ~ \"Baseline & BioNTech\",\n",
    "        TimePoint == \"D0\" & Vac_Group==\"SinoVac\" ~ \"Baseline & SinoVac\",\n",
    "        TimePoint == \"M1\" & Vac_Group==\"BioNTech\" ~ \"One Month & BioNTech\",\n",
    "        TimePoint == \"M1\" & Vac_Group==\"SinoVac\" ~ \"One Month & SinoVac\")) %>%\n",
    "    data.frame()\n",
    "\n",
    "metadata$Vac_Group <- factor(metadata$Vac_Group, levels=c(\"BioNTech\", \"SinoVac\"))\n",
    "rownames(metadata) <- metadata$sample_id\n",
    "\n",
    "tax_s_pls <- phyloseq(otu_table(tax_s, taxa_are_rows=TRUE),\n",
    "                      sample_data(metadata))"
   ]
  },
  {
   "cell_type": "code",
   "execution_count": 9,
   "id": "b8ab201e-4b78-4cff-882a-a8d9349fce24",
   "metadata": {},
   "outputs": [],
   "source": [
    "%%R\n",
    "df = plyr::ldply(plist, function(x) x$data)\n",
    "names(df)[1] <- \"distance\"\n",
    "dim(df)\n",
    "df <- df %>%\n",
    "    mutate(group=case_when(\n",
    "        (Vac_Group==\"SinoVac\") & (TimePoint==\"D0\") ~ \"D0+SinoVac\",\n",
    "        (Vac_Group==\"SinoVac\") & (TimePoint==\"M1\") ~ \"M1+SinoVac\",\n",
    "        (Vac_Group==\"BioNTech\") & (TimePoint==\"D0\") ~ \"D0+BioNTech\",\n",
    "        (Vac_Group==\"BioNTech\") & (TimePoint==\"M1\") ~ \"M1+BioNTech\",\n",
    "    ))"
   ]
  },
  {
   "cell_type": "code",
   "execution_count": 7,
   "id": "63a33688-ddcf-4660-ad54-fc4e1f57e4a5",
   "metadata": {
    "tags": []
   },
   "outputs": [
    {
     "name": "stdout",
     "output_type": "stream",
     "text": [
      "Run 0 stress 0.2664496 \n",
      "Run 1 stress 0.287856 \n",
      "Run 2 stress 0.2695785 \n",
      "Run 3 stress 0.2921582 \n",
      "Run 4 stress 0.2697325 \n",
      "Run 5 stress 0.2782608 \n",
      "Run 6 stress 0.2679073 \n",
      "Run 7 stress 0.2753609 \n",
      "Run 8 stress 0.2872422 \n",
      "Run 9 stress 0.2878785 \n",
      "Run 10 stress 0.2843196 \n",
      "Run 11 stress 0.2787776 \n",
      "Run 12 stress 0.279902 \n",
      "Run 13 stress 0.2740347 \n",
      "Run 14 stress 0.2677646 \n",
      "Run 15 stress 0.2877055 \n",
      "Run 16 stress 0.2667844 \n",
      "... Procrustes: rmse 0.0183044  max resid 0.1882636 \n",
      "Run 17 stress 0.268729 \n",
      "Run 18 stress 0.2832413 \n",
      "Run 19 stress 0.2766324 \n",
      "Run 20 stress 0.2754495 \n",
      "*** No convergence -- monoMDS stopping criteria:\n",
      "     5: no. of iterations >= maxit\n",
      "    15: stress ratio > sratmax\n"
     ]
    }
   ],
   "source": [
    "%%R\n",
    "set.seed(1991)\n",
    "iDist <- distance(tax_s_pls, method=\"jsd\")\n",
    "iNMDS <- ordinate(tax_s_pls, \"NMDS\", distance=iDist)"
   ]
  },
  {
   "cell_type": "code",
   "execution_count": 29,
   "id": "d4ecd177-3aaf-41c8-a560-13148acacf97",
   "metadata": {},
   "outputs": [],
   "source": [
    "%%R\n",
    "meta_table <- data.frame(phyloseq::sample_data(tax_s_pls))\n",
    "otu_table <- data.frame(phyloseq::otu_table(tax_s_pls))"
   ]
  },
  {
   "cell_type": "code",
   "execution_count": 8,
   "id": "077aba83-bfc1-457f-bdb7-ceacd23ce4c7",
   "metadata": {},
   "outputs": [],
   "source": [
    "%%R\n",
    "#mod <- vegan::betadisper(iDist, meta_table$group, type=\"centroid\")\n",
    "mod <- vegan::betadisper(iDist, metadata$group, type=\"centroid\")"
   ]
  },
  {
   "cell_type": "code",
   "execution_count": 9,
   "id": "17e217c2-df5b-4278-a31b-e322c94f9fb6",
   "metadata": {},
   "outputs": [
    {
     "name": "stdout",
     "output_type": "stream",
     "text": [
      "\n",
      "\tHomogeneity of multivariate dispersions\n",
      "\n",
      "Call: vegan::betadisper(d = iDist, group = metadata$group, type =\n",
      "\"centroid\")\n",
      "\n",
      "No. of Positive Eigenvalues: 81\n",
      "No. of Negative Eigenvalues: 190\n",
      "\n",
      "Average distance to centroid:\n",
      " Baseline & BioNTech   Baseline & SinoVac One Month & BioNTech \n",
      "              0.2869               0.2735               0.2974 \n",
      " One Month & SinoVac \n",
      "              0.2885 \n",
      "\n",
      "Eigenvalues for PCoA axes:\n",
      "(Showing 8 of 271 eigenvalues)\n",
      "PCoA1 PCoA2 PCoA3 PCoA4 PCoA5 PCoA6 PCoA7 PCoA8 \n",
      "4.342 2.946 2.416 1.905 1.748 1.648 1.293 1.260 \n"
     ]
    }
   ],
   "source": [
    "%%R\n",
    "mod"
   ]
  },
  {
   "cell_type": "code",
   "execution_count": 10,
   "id": "bf9707c7-f5a9-43e2-861a-ffe1add97bee",
   "metadata": {},
   "outputs": [],
   "source": [
    "%%R\n",
    "pmod <- vegan::permutest(mod, permutations=99, pairwise=TRUE)"
   ]
  },
  {
   "cell_type": "code",
   "execution_count": 11,
   "id": "55f37eca-b60e-4bcd-b488-077b9dc975ed",
   "metadata": {},
   "outputs": [
    {
     "name": "stdout",
     "output_type": "stream",
     "text": [
      "\n",
      "Permutation test for homogeneity of multivariate dispersions\n",
      "Permutation: free\n",
      "Number of permutations: 99\n",
      "\n",
      "Response: Distances\n",
      "           Df  Sum Sq   Mean Sq      F N.Perm Pr(>F)\n",
      "Groups      3 0.01634 0.0054469 1.4536     99   0.24\n",
      "Residuals 268 1.00421 0.0037471                     \n",
      "\n",
      "Pairwise comparisons:\n",
      "(Observed p-value below diagonal, permuted p-value above diagonal)\n",
      "                     Baseline & BioNTech Baseline & SinoVac\n",
      "Baseline & BioNTech                                0.180000\n",
      "Baseline & SinoVac              0.210683                   \n",
      "One Month & BioNTech            0.213377           0.040297\n",
      "One Month & SinoVac             0.889615           0.325658\n",
      "                     One Month & BioNTech One Month & SinoVac\n",
      "Baseline & BioNTech              0.210000                0.86\n",
      "Baseline & SinoVac               0.050000                0.27\n",
      "One Month & BioNTech                                     0.49\n",
      "One Month & SinoVac              0.495318                    \n"
     ]
    }
   ],
   "source": [
    "%%R\n",
    "pmod"
   ]
  },
  {
   "cell_type": "code",
   "execution_count": 12,
   "id": "2f7f9c24-412c-4d42-92a7-b02fab001b3a",
   "metadata": {},
   "outputs": [],
   "source": [
    "%%R\n",
    "p.values <- pmod$pairwise$observed"
   ]
  },
  {
   "cell_type": "code",
   "execution_count": 13,
   "id": "a75bc3a0-f8b2-49f7-be8b-14ebc9db20ac",
   "metadata": {},
   "outputs": [],
   "source": [
    "%%R\n",
    "p.values <- p.values[!is.na(p.values<=0.05)]"
   ]
  },
  {
   "cell_type": "code",
   "execution_count": 14,
   "id": "28c1bdf5-e62c-4c50-901f-9369601b7bee",
   "metadata": {},
   "outputs": [
    {
     "name": "stdout",
     "output_type": "stream",
     "text": [
      "  Baseline & BioNTech-Baseline & SinoVac \n",
      "                              0.21068334 \n",
      "Baseline & BioNTech-One Month & BioNTech \n",
      "                              0.21337742 \n",
      " Baseline & BioNTech-One Month & SinoVac \n",
      "                              0.88961514 \n",
      " Baseline & SinoVac-One Month & BioNTech \n",
      "                              0.04029706 \n",
      "  Baseline & SinoVac-One Month & SinoVac \n",
      "                              0.32565841 \n",
      "One Month & BioNTech-One Month & SinoVac \n",
      "                              0.49531831 \n"
     ]
    }
   ],
   "source": [
    "%%R\n",
    "p.values"
   ]
  },
  {
   "cell_type": "code",
   "execution_count": 15,
   "id": "d66d071a-59b4-40d4-9a63-039f3de87762",
   "metadata": {},
   "outputs": [],
   "source": [
    "%%R\n",
    "signi_label <- paste(cut(p.values, breaks=c(-Inf, 0.001, 0.01, 0.05, Inf),\n",
    "                        label=c(\"***\", \"**\", \"*\", \".\")))"
   ]
  },
  {
   "cell_type": "code",
   "execution_count": 16,
   "id": "41941c32-e842-4d7c-b342-ab95303bda0e",
   "metadata": {},
   "outputs": [],
   "source": [
    "%%R\n",
    "groups_compared <- names(p.values)"
   ]
  },
  {
   "cell_type": "code",
   "execution_count": 17,
   "id": "067a535c-2a2e-4a61-9418-2318ac2facb3",
   "metadata": {},
   "outputs": [],
   "source": [
    "%%R\n",
    "betadisper_res <- data.frame(groups_compared, p.values, signi_label)"
   ]
  },
  {
   "cell_type": "code",
   "execution_count": 18,
   "id": "04039bb9-527f-4696-9c10-ea6f7c47e61f",
   "metadata": {},
   "outputs": [
    {
     "name": "stdout",
     "output_type": "stream",
     "text": [
      "                                                                  groups_compared\n",
      "Baseline & BioNTech-Baseline & SinoVac     Baseline & BioNTech-Baseline & SinoVac\n",
      "Baseline & BioNTech-One Month & BioNTech Baseline & BioNTech-One Month & BioNTech\n",
      "Baseline & BioNTech-One Month & SinoVac   Baseline & BioNTech-One Month & SinoVac\n",
      "Baseline & SinoVac-One Month & BioNTech   Baseline & SinoVac-One Month & BioNTech\n",
      "Baseline & SinoVac-One Month & SinoVac     Baseline & SinoVac-One Month & SinoVac\n",
      "One Month & BioNTech-One Month & SinoVac One Month & BioNTech-One Month & SinoVac\n",
      "                                           p.values signi_label\n",
      "Baseline & BioNTech-Baseline & SinoVac   0.21068334           .\n",
      "Baseline & BioNTech-One Month & BioNTech 0.21337742           .\n",
      "Baseline & BioNTech-One Month & SinoVac  0.88961514           .\n",
      "Baseline & SinoVac-One Month & BioNTech  0.04029706           *\n",
      "Baseline & SinoVac-One Month & SinoVac   0.32565841           .\n",
      "One Month & BioNTech-One Month & SinoVac 0.49531831           .\n"
     ]
    }
   ],
   "source": [
    "%%R\n",
    "betadisper_res"
   ]
  },
  {
   "cell_type": "code",
   "execution_count": 19,
   "id": "494f9828-5b85-440e-a530-e43504535dcd",
   "metadata": {},
   "outputs": [],
   "source": [
    "%%R\n",
    "#adonis_res <- vegan::adonis(iDist ~ group, data=meta_table)\n",
    "adonis_res <- vegan::adonis(iDist ~ group, data=metadata)"
   ]
  },
  {
   "cell_type": "code",
   "execution_count": 20,
   "id": "772892bd-6424-4059-9006-3de23f5a154d",
   "metadata": {},
   "outputs": [
    {
     "name": "stdout",
     "output_type": "stream",
     "text": [
      "\n",
      "Call:\n",
      "vegan::adonis(formula = iDist ~ group, data = metadata) \n",
      "\n",
      "Permutation: free\n",
      "Number of permutations: 999\n",
      "\n",
      "Terms added sequentially (first to last)\n",
      "\n",
      "           Df SumsOfSqs  MeanSqs F.Model     R2 Pr(>F)\n",
      "group       3    0.2302 0.076741 0.86592 0.0096  0.675\n",
      "Residuals 268   23.7510 0.088623         0.9904       \n",
      "Total     271   23.9813                  1.0000       \n"
     ]
    }
   ],
   "source": [
    "%%R\n",
    "adonis_res"
   ]
  },
  {
   "cell_type": "code",
   "execution_count": 21,
   "id": "ed3c0e9e-0ff0-4931-9fe8-fdd736ca9374",
   "metadata": {},
   "outputs": [],
   "source": [
    "%%R  ## very strange\n",
    "#adonis_res_pw <- pairwise.adonis(iDist, factor=meta_table$group)\n",
    "adonis_res_pw <- pairwise.adonis(iDist, factor=metadata$group)"
   ]
  },
  {
   "cell_type": "code",
   "execution_count": 24,
   "id": "9420fad1-f8c6-4e88-84e0-acac04ace91a",
   "metadata": {},
   "outputs": [
    {
     "name": "stdout",
     "output_type": "stream",
     "text": [
      "[1] 36856\n"
     ]
    }
   ],
   "source": [
    "%%R\n",
    "length(iDist)"
   ]
  },
  {
   "cell_type": "code",
   "execution_count": 28,
   "id": "6b4bb85b-1ed4-4665-8481-78715dc0d08f",
   "metadata": {},
   "outputs": [
    {
     "name": "stdout",
     "output_type": "stream",
     "text": [
      "[1] 36856\n"
     ]
    }
   ],
   "source": [
    "%%R\n",
    "272 * 272 / 2 - 272 / 2"
   ]
  },
  {
   "cell_type": "code",
   "execution_count": 22,
   "id": "f31cf748-19df-42e9-b9fc-d9897faa9608",
   "metadata": {},
   "outputs": [
    {
     "name": "stdout",
     "output_type": "stream",
     "text": [
      "                                        pairs Df  SumsOfSqs   F.Model\n",
      "1   Baseline & SinoVac vs One Month & SinoVac  1 0.06602219 0.7730196\n",
      "2   Baseline & SinoVac vs Baseline & BioNTech  1 0.07328418 0.8671505\n",
      "3  Baseline & SinoVac vs One Month & BioNTech  1 0.05878752 0.6561641\n",
      "4  One Month & SinoVac vs Baseline & BioNTech  1 0.12632203 1.4409092\n",
      "5 One Month & SinoVac vs One Month & BioNTech  1 0.08120685 0.8745108\n",
      "6 Baseline & BioNTech vs One Month & BioNTech  1 0.05810903 0.6472230\n",
      "           R2 p.value p.adjusted sig\n",
      "1 0.010770336   0.691      1.000    \n",
      "2 0.006335709   0.562      1.000    \n",
      "3 0.004909344   0.761      1.000    \n",
      "4 0.010560683   0.149      0.894    \n",
      "5 0.006581479   0.587      1.000    \n",
      "6 0.003274638   0.789      1.000    \n"
     ]
    }
   ],
   "source": [
    "%%R\n",
    "adonis_res_pw"
   ]
  },
  {
   "cell_type": "code",
   "execution_count": 74,
   "id": "61886841-fc79-4fde-bca5-c86c9dceceb5",
   "metadata": {},
   "outputs": [
    {
     "name": "stdout",
     "output_type": "stream",
     "text": [
      "             Length Class  Mode   \n",
      "aov.tab         6   anova  list   \n",
      "call            3   -none- call   \n",
      "coefficients    0   -none- NULL   \n",
      "coef.sites   1088   -none- numeric\n",
      "f.perms       999   -none- numeric\n",
      "model.matrix 1088   -none- numeric\n",
      "terms           3   terms  call   \n"
     ]
    }
   ],
   "source": [
    "%%R\n",
    "summary(adonis_res)"
   ]
  },
  {
   "cell_type": "code",
   "execution_count": 75,
   "id": "7d6e6711-ae75-4639-9ef1-98f14ec0ae1f",
   "metadata": {},
   "outputs": [
    {
     "name": "stdout",
     "output_type": "stream",
     "text": [
      "    pairs                 Df      SumsOfSqs          F.Model      \n",
      " Length:6           Min.   :1   Min.   :0.07335   Min.   :0.8657  \n",
      " Class :character   1st Qu.:1   1st Qu.:0.11897   1st Qu.:1.3759  \n",
      " Mode  :character   Median :1   Median :0.21297   Median :2.5183  \n",
      "                    Mean   :1   Mean   :0.20413   Mean   :2.3517  \n",
      "                    3rd Qu.:1   3rd Qu.:0.27426   3rd Qu.:3.1066  \n",
      "                    Max.   :1   Max.   :0.34319   Max.   :3.9101  \n",
      "       R2              p.value          p.adjusted         sig           \n",
      " Min.   :0.006325   Min.   :0.00100   Min.   :0.0060   Length:6          \n",
      " 1st Qu.:0.009860   1st Qu.:0.00225   1st Qu.:0.0135   Class :character  \n",
      " Median :0.017779   Median :0.01050   Median :0.0630   Mode  :character  \n",
      " Mean   :0.018474   Mean   :0.17417   Mean   :0.3563                     \n",
      " 3rd Qu.:0.025914   3rd Qu.:0.32550   3rd Qu.:0.7725                     \n",
      " Max.   :0.033112   Max.   :0.59300   Max.   :1.0000                     \n"
     ]
    }
   ],
   "source": [
    "%%R\n",
    "summary(adonis_res_pw)"
   ]
  },
  {
   "cell_type": "code",
   "execution_count": 76,
   "id": "18f8b60d-43db-4272-a212-b4a1dc743f68",
   "metadata": {},
   "outputs": [
    {
     "name": "stdout",
     "output_type": "stream",
     "text": [
      "Joining, by = \"sample_id\"\n"
     ]
    }
   ],
   "source": [
    "%%R\n",
    "iDist_df <- iDist %>% as.matrix() %>% as.data.frame() %>% rownames_to_column(\"sample_id\") %>%\n",
    "    pivot_longer(!sample_id, names_to=\"sample_id2\", values_to=\"distance\")\n",
    "    \n",
    "iDist_df_filtered <-\n",
    "    iDist_df %>%\n",
    "    rowwise() %>%\n",
    "    filter(str_split(sample_id, \"-|_\")[[1]][1] == str_split(sample_id2, \"-|_\")[[1]][1] &\n",
    "            str_split(sample_id, \"-|_\")[[1]][2] != str_split(sample_id2, \"-|_\")[[1]][2]) %>%\n",
    "    left_join(metadata) %>% distinct(ID, .keep_all= TRUE)"
   ]
  },
  {
   "cell_type": "code",
   "execution_count": 87,
   "id": "997853b1-1a95-4a62-86c5-a6a4e1922823",
   "metadata": {},
   "outputs": [],
   "source": [
    "%%R\n",
    "pdata <- phyloseq::plot_ordination(tax_s_pls, iNMDS, color=\"TimePoint\", shape=\"TimePoint\")$data\n",
    "pdata <- pdata %>%\n",
    "    mutate(group=case_when(\n",
    "        Vac_Group==\"SinoVac\" & TimePoint==\"D0\" ~ \"Baseline & SinoVac\",\n",
    "        Vac_Group==\"SinoVac\" & TimePoint==\"M1\" ~ \"One Month & SinoVac\",\n",
    "        Vac_Group==\"BioNTech\" & TimePoint==\"D0\" ~ \"Baseline & BioNTech\",\n",
    "        Vac_Group==\"BioNTech\" & TimePoint==\"M1\" ~ \"One Month & BioNTech\"))"
   ]
  },
  {
   "cell_type": "code",
   "execution_count": 88,
   "id": "5e51e43b-fe2c-4b4d-8d7e-127dc617291b",
   "metadata": {
    "tags": []
   },
   "outputs": [],
   "source": [
    "%%R\n",
    "group_label <- cbind(NMDS1=tapply(pdata$NMDS1, pdata$group, mean),\n",
    "                    NMDS2=tapply(pdata$NMDS2, pdata$group, mean)) %>%\n",
    "data.frame() %>% rownames_to_column(\"group\")"
   ]
  },
  {
   "cell_type": "code",
   "execution_count": 89,
   "id": "77a3260a-1277-4e91-98cd-347e8b0a7fd9",
   "metadata": {},
   "outputs": [
    {
     "name": "stdout",
     "output_type": "stream",
     "text": [
      "                 group        NMDS1         NMDS2\n",
      "1  Baseline & BioNTech  0.002752604  0.0248404260\n",
      "2   Baseline & SinoVac  0.010316285  0.0003373714\n",
      "3 One Month & BioNTech -0.007568870 -0.0096343222\n",
      "4  One Month & SinoVac  0.002278713 -0.0438111718\n"
     ]
    }
   ],
   "source": [
    "%%R\n",
    "group_label"
   ]
  },
  {
   "cell_type": "code",
   "execution_count": 90,
   "id": "67713e95-f867-40ab-8b3e-ca545e6739c5",
   "metadata": {},
   "outputs": [],
   "source": [
    "%%R\n",
    "stress.value <- iNMDS$stress\n",
    "stress.label <- paste(\"STRESS=\", round(stress.value, 4))"
   ]
  },
  {
   "cell_type": "code",
   "execution_count": 91,
   "id": "0223d0f8-932f-4b43-942c-57805ad8153b",
   "metadata": {},
   "outputs": [],
   "source": [
    "%%R\n",
    "adn_pvalue <- adonis_res[[1]][[\"Pr(>F)\"]][1]\n",
    "adn_rsquared <- round(adonis_res[[1]][[\"R2\"]], 3)\n",
    "signi_label <- paste(cut(adn_pvalue,\n",
    "                         breaks=c(-Inf, 0.001, 0.01, 0.05, Inf),\n",
    "                         label=c(\"***\", \"**\", \"*\", \".\")))\n",
    "adn_res_format <- bquote(atop(atop(\"PERMANOVA\", R^2==~.(adn_rsquared)),\n",
    "                             atop(\"p-value=\"~.(adn_pvalue)~.(signi_label),\n",
    "                                  phantom())))"
   ]
  },
  {
   "cell_type": "code",
   "execution_count": 92,
   "id": "3b32bf8f-ad23-4099-ab90-41a54cdb7ff4",
   "metadata": {},
   "outputs": [
    {
     "name": "stdout",
     "output_type": "stream",
     "text": [
      "\n",
      "\n",
      "pairs                                          Df   SumsOfSqs     F.Model          R2   p.value   p.adjusted  sig \n",
      "--------------------------------------------  ---  ----------  ----------  ----------  --------  -----------  ----\n",
      "One Month & BioNTech vs One Month & SinoVac     1   0.0917303   1.0240675   0.0076984     0.429        1.000      \n",
      "One Month & BioNTech vs Baseline & SinoVac      1   0.2252373   2.6051591   0.0192114     0.006        0.036  .   \n",
      "One Month & BioNTech vs Baseline & BioNTech     1   0.2905969   3.2737101   0.0163462     0.001        0.006  *   \n",
      "One Month & SinoVac vs Baseline & SinoVac       1   0.2007023   2.4314351   0.0331116     0.015        0.090      \n",
      "One Month & SinoVac vs Baseline & BioNTech      1   0.3431873   3.9101218   0.0281486     0.001        0.006  *   \n",
      "Baseline & SinoVac vs Baseline & BioNTech       1   0.0733522   0.8656688   0.0063250     0.593        1.000      \n"
     ]
    }
   ],
   "source": [
    "%%R\n",
    "adonis_res_pw %>% data.frame() %>% knitr::kable(\"simple\")"
   ]
  },
  {
   "cell_type": "code",
   "execution_count": 93,
   "id": "e369b21d-2399-410c-80c8-b41513e3685e",
   "metadata": {},
   "outputs": [],
   "source": [
    "%%R\n",
    "adn_pvalue <- adonis_res[[1]][[\"Pr(>F)\"]][1]\n",
    "adn_rsquared <- round(adonis_res[[1]][[\"R2\"]], 3)\n",
    "signi_label <- paste(cut(adn_pvalue,\n",
    "                         breaks=c(-Inf, 0.001, 0.01, 0.05, Inf),\n",
    "                         label=c(\"***\", \"**\", \"*\", \".\")))\n",
    "adn_res_format <- bquote(atop(atop(\"PERMANOVA\", R^2==~.(adn_rsquared)),\n",
    "                             atop(\"p-value=\"~.(adn_pvalue)~.(signi_label),\n",
    "                                  phantom())))"
   ]
  },
  {
   "cell_type": "markdown",
   "id": "9501e792-e37e-4f53-b888-a12112983f84",
   "metadata": {},
   "source": [
    "## Figure-1b"
   ]
  },
  {
   "cell_type": "code",
   "execution_count": 69,
   "id": "6a0dbf40-dfec-44f8-933a-a673e96cc77d",
   "metadata": {},
   "outputs": [
    {
     "data": {
      "image/png": "[encoded data removed]"
     },
     "metadata": {},
     "output_type": "display_data"
    }
   ],
   "source": [
    "%%R -w 800 -h 600\n",
    "betap <- ggscatter(pdata, x=\"NMDS1\", y=\"NMDS2\", shape=\"TimePoint\", color=\"group\", fill=\"group\", size=3, alpha=0.9) +\n",
    "    #geom_point(size=3, alpha=0.5) +\n",
    "    stat_ellipse(aes(colour=group)) +\n",
    "    ggtitle(paste(\"NMDS using distance method \", \"jsd\", sep=\"\")) +\n",
    "    scale_fill_manual(values=gt_color_values) +\n",
    "    scale_color_manual(values=gt_color_values) +\n",
    "    #geom_text(data=group_label, aes(x=NMDS1, y=NMDS2, label=group, color=group))\n",
    "    annotate('text', x=max(pdata$NMDS1)*0.8, y=max(pdata$NMDS2)*0.8,\n",
    "             label=stress.label) +\n",
    "    annotate('text', x=max(pdata$NMDS1)-0.05*max(pdata$NMDS1),\n",
    "                     y=min(pdata$NMDS1),\n",
    "            label=adn_res_format, size=5)\n",
    "    \n",
    "betap2 <- ggscatter(pdata, x=\"NMDS1\", y=\"NMDS2\", shape=\"TimePoint\", color=\"group\", fill=\"group\", size=3, alpha=0.9) +\n",
    "    #geom_point(size=3, alpha=0.5) +\n",
    "    stat_ellipse(aes(colour=group)) +\n",
    "    facet_wrap(~Vac_Group) +\n",
    "    ggtitle(paste(\"NMDS using distance method \", \"jsd\", sep=\"\")) +\n",
    "    scale_fill_manual(values=gt_color_values) +\n",
    "    scale_color_manual(values=gt_color_values)\n",
    "\n",
    "distp <- ggboxplot(iDist_df_filtered, x=\"Vac_Group\", y=\"distance\",\n",
    "          fill=\"Vac_Group\", width = 0.5, outlier.shape = NA, \n",
    "          bxp.errorbar = TRUE, bxp.errorbar.width = 0.2) +\n",
    "        stat_compare_means(comparisons = list(c(\"BioNTech\", \"SinoVac\")),\n",
    "                           method = \"wilcox.test\", p.adjust.method = \"fdr\",\n",
    "                           paired=FALSE) +\n",
    "        ylab(\"Distance (Baseline vs One Month)\") + xlab(\"\") +\n",
    "        coord_flip() + \n",
    "        scale_fill_manual(values=group_color_values)#, guide=FALSE)\n",
    "    \n",
    "pp <- ggarrange(betap, distp, nrow = 2, ncol = 1,align = \"v\", heights = c(5,1), legend = \"right\")\n",
    "pp2 <- ggarrange(betap2, distp, nrow = 2, ncol = 1,align = \"v\", heights = c(5,1), legend = \"right\")\n",
    "\n",
    "print(pp)"
   ]
  }
 ],
 "metadata": {
  "kernelspec": {
   "display_name": "Python 3 (ipykernel)",
   "language": "python",
   "name": "python3"
  },
  "language_info": {
   "codemirror_mode": {
    "name": "ipython",
    "version": 3
   },
   "file_extension": ".py",
   "mimetype": "text/x-python",
   "name": "python",
   "nbconvert_exporter": "python",
   "pygments_lexer": "ipython3",
   "version": "3.8.10"
  }
 },
 "nbformat": 4,
 "nbformat_minor": 5
}
