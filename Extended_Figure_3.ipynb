{
 "cells": [
  {
   "cell_type": "code",
   "execution_count": 491,
   "id": "889eb879-b7dc-4903-b772-6069221cc7cc",
   "metadata": {},
   "outputs": [
    {
     "name": "stdout",
     "output_type": "stream",
     "text": [
      "The rpy2.ipython extension is already loaded. To reload it, use:\n",
      "  %reload_ext rpy2.ipython\n"
     ]
    }
   ],
   "source": [
    "%load_ext rpy2.ipython"
   ]
  },
  {
   "cell_type": "code",
   "execution_count": 492,
   "id": "eaeedfad-535e-45f5-8d29-dad025a72f2a",
   "metadata": {},
   "outputs": [],
   "source": [
    "%%R\n",
    "library(tidyverse)\n",
    "library(ggpubr)\n",
    "library(ggalluvial)\n",
    "library(phyloseq)\n",
    "source(\"R/theme.R\")"
   ]
  },
  {
   "cell_type": "markdown",
   "id": "f136bfb2-971f-4637-ae3d-0dfbd588ecbd",
   "metadata": {},
   "source": [
    "## Metadata, profile"
   ]
  },
  {
   "cell_type": "code",
   "execution_count": 493,
   "id": "d80344f3-b0cc-425f-b662-9f5b3458f879",
   "metadata": {},
   "outputs": [
    {
     "name": "stdout",
     "output_type": "stream",
     "text": [
      "Rows: 272 Columns: 57\n",
      "── Column specification ────────────────────────────────────────────────────────\n",
      "Delimiter: \"\\t\"\n",
      "chr  (7): sample_id, ID, TimePoint, Cohort, Vac_Group, Dose1_AE_num_cat, Dos...\n",
      "dbl (50): all_bray_cluster3, Age, Male, BMI, OWOB, Obese_bin, HTC_bin, DMC_b...\n",
      "\n",
      "ℹ Use `spec()` to retrieve the full column specification for this data.\n",
      "ℹ Specify the column types or set `show_col_types = FALSE` to quiet this message.\n"
     ]
    }
   ],
   "source": [
    "%%R\n",
    "metadata <-\n",
    "    read_tsv(\"metadata/samples_metadata_imm_272S.tsv\") %>% data.frame()\n",
    "metadata$Vac_Group <- factor(metadata$Vac_Group, levels=c(\"BioNTech\", \"SinoVac\"))\n",
    "rownames(metadata) <- metadata$sample_id"
   ]
  },
  {
   "cell_type": "code",
   "execution_count": 494,
   "id": "8f46a836-143c-42e2-9f9d-70414269600c",
   "metadata": {},
   "outputs": [
    {
     "name": "stdout",
     "output_type": "stream",
     "text": [
      "Rows: 547 Columns: 273\n",
      "── Column specification ────────────────────────────────────────────────────────\n",
      "Delimiter: \"\\t\"\n",
      "chr   (1): clade_name\n",
      "dbl (272): VAC003B-M1_S2, VAC005B-M1_S3, VAC007B-M1_S4, VAC010B-M1_S5, VAC01...\n",
      "\n",
      "ℹ Use `spec()` to retrieve the full column specification for this data.\n",
      "ℹ Specify the column types or set `show_col_types = FALSE` to quiet this message.\n",
      "Rows: 12 Columns: 273\n",
      "── Column specification ────────────────────────────────────────────────────────\n",
      "Delimiter: \"\\t\"\n",
      "chr   (1): clade_name\n",
      "dbl (272): VAC003B-M1_S2, VAC005B-M1_S3, VAC007B-M1_S4, VAC010B-M1_S5, VAC01...\n",
      "\n",
      "ℹ Use `spec()` to retrieve the full column specification for this data.\n",
      "ℹ Specify the column types or set `show_col_types = FALSE` to quiet this message.\n"
     ]
    }
   ],
   "source": [
    "%%R\n",
    "tax_s <- read_tsv(\"data/metaphlan3.merged.abundance.profile.species.272S.tsv\")\n",
    "tax_p <- read_tsv(\"data/metaphlan3.merged.abundance.profile.phylum.272S.tsv\")"
   ]
  },
  {
   "cell_type": "code",
   "execution_count": 495,
   "id": "17804f07-f252-4e4a-8b00-93bfdb3b2712",
   "metadata": {},
   "outputs": [],
   "source": [
    "%%R\n",
    "species_phylum <-\n",
    "    tax_s %>%\n",
    "    select(clade_name) %>%\n",
    "    rowwise(clade_name) %>% \n",
    "    mutate(clade=str_split(clade_name, \"\\\\|s__\")[[1]][2]) %>%\n",
    "    mutate(phylum=str_split(str_split(clade_name, \"\\\\|\")[[1]][2], \"p__\")[[1]][2]) %>%\n",
    "    ungroup() %>%\n",
    "    select(clade, phylum) %>%\n",
    "    mutate(clade=str_replace(clade, \"_\", \" \"))"
   ]
  },
  {
   "cell_type": "code",
   "execution_count": 496,
   "id": "ab42efc3-6f4c-4a41-a826-25675eebbc19",
   "metadata": {},
   "outputs": [
    {
     "name": "stdout",
     "output_type": "stream",
     "text": [
      "# A tibble: 547 × 2\n",
      "   clade                           phylum        \n",
      "   <chr>                           <chr>         \n",
      " 1 Methanobrevibacter smithii      Euryarchaeota \n",
      " 2 Methanosphaera stadtmanae       Euryarchaeota \n",
      " 3 Actinobaculum sp_oral_taxon_183 Actinobacteria\n",
      " 4 Actinomyces graevenitzii        Actinobacteria\n",
      " 5 Actinomyces johnsonii           Actinobacteria\n",
      " 6 Actinomyces massiliensis        Actinobacteria\n",
      " 7 Actinomyces naeslundii          Actinobacteria\n",
      " 8 Actinomyces odontolyticus       Actinobacteria\n",
      " 9 Actinomyces oris                Actinobacteria\n",
      "10 Actinomyces sp_HMSC035G02       Actinobacteria\n",
      "# … with 537 more rows\n"
     ]
    }
   ],
   "source": [
    "%%R\n",
    "species_phylum"
   ]
  },
  {
   "cell_type": "code",
   "execution_count": 497,
   "id": "a7f9f0bd-598b-4318-a9d7-f50ae5fc5b1a",
   "metadata": {},
   "outputs": [],
   "source": [
    "%%R\n",
    "tax_s_pls <- phyloseq(\n",
    "    otu_table(tax_s %>% column_to_rownames(\"clade_name\"), taxa_are_rows=TRUE),\n",
    "    sample_data(metadata))\n",
    "\n",
    "tax_p_pls <- phyloseq(\n",
    "    otu_table(tax_p %>% column_to_rownames(\"clade_name\"), taxa_are_rows=TRUE),\n",
    "    sample_data(metadata))"
   ]
  },
  {
   "cell_type": "code",
   "execution_count": 498,
   "id": "dd19ddfa-6015-4a2d-bcdb-cbf8e9633039",
   "metadata": {},
   "outputs": [
    {
     "name": "stdout",
     "output_type": "stream",
     "text": [
      "[1] 148784      4\n"
     ]
    }
   ],
   "source": [
    "%%R\n",
    "tax_s_l <-\n",
    "    tax_s %>%\n",
    "    rowwise() %>%\n",
    "    mutate(clade=str_replace(str_split(clade_name, \"\\\\|s__\")[[1]][2], \"_\", \" \")) %>%\n",
    "    ungroup() %>%\n",
    "    pivot_longer(\n",
    "        names_to=\"sample_id\",\n",
    "        values_to=\"abundance\",\n",
    "        -c(clade_name, clade))\n",
    "\n",
    "dim(tax_s_l)"
   ]
  },
  {
   "cell_type": "code",
   "execution_count": 499,
   "id": "2fecbb27-4d5d-485f-81b6-b4e9dd1e2860",
   "metadata": {},
   "outputs": [
    {
     "name": "stdout",
     "output_type": "stream",
     "text": [
      "[1] 148784\n"
     ]
    }
   ],
   "source": [
    "%%R\n",
    "547 * 272"
   ]
  },
  {
   "cell_type": "code",
   "execution_count": 500,
   "id": "a7c95dc0-cda3-4312-9ba3-39b32d508d97",
   "metadata": {},
   "outputs": [
    {
     "name": "stdout",
     "output_type": "stream",
     "text": [
      "[1] 148784      4\n"
     ]
    }
   ],
   "source": [
    "%%R\n",
    "tax_p_l <-\n",
    "    tax_p %>%\n",
    "    rowwise() %>%\n",
    "    mutate(clade=str_split(clade_name, \"\\\\|p__\")[[1]][2]) %>%\n",
    "    pivot_longer(\n",
    "        names_to=\"sample_id\",\n",
    "        values_to=\"abundance\",\n",
    "        -c(clade_name, clade))\n",
    "\n",
    "dim(tax_s_l)"
   ]
  },
  {
   "cell_type": "code",
   "execution_count": null,
   "id": "ce6e9b1b-1ad4-4468-a19a-4d3c43400611",
   "metadata": {},
   "outputs": [],
   "source": [
    "##"
   ]
  },
  {
   "cell_type": "code",
   "execution_count": 340,
   "id": "554efca3-e8b3-49eb-8557-59344f2a28a8",
   "metadata": {},
   "outputs": [],
   "source": [
    "%%R\n",
    "phylum_color_values2 <- c(\"Firmicutes\"=\"#E69F00\",\n",
    "                         \"Bacteroidetes\"=\"#009E73\",\n",
    "                         \"Actinobacteria\"=\"#0072B2\",\n",
    "                         \"Proteobacteria\"=\"#D55E00\",\n",
    "                         \"Synergistetes\"=\"#F0E442\",\n",
    "                         \"Others\"=\"#CC79A7\")"
   ]
  },
  {
   "cell_type": "code",
   "execution_count": 501,
   "id": "becb4d1d-740d-4f5a-a87b-93d34b5cea96",
   "metadata": {},
   "outputs": [],
   "source": [
    "%%R\n",
    "#tax_p_l <-\n",
    "#    tax_p %>%\n",
    "#    as.data.frame() %>%\n",
    "#    rownames_to_column(\"Phylum\") %>%\n",
    "#    rowwise() %>%\n",
    "#    mutate(Phylum=str_split(Phylum, \"\\\\|\")[[1]][2]) %>%\n",
    "#    ungroup() %>%\n",
    "#    gather(key=\"sample_id\", value=\"Abundance\", -c(Phylum))\n",
    "\n",
    "gen_data <- function(tax_l, topn=10) {\n",
    "    tax_occr <-\n",
    "        tax_l %>%\n",
    "        group_by(clade) %>%\n",
    "        summarize(occr=sum(abundance>0)/length(abundance),\n",
    "                  mean_abundance=sum(abundance)/length(abundance),\n",
    "                  median_abundance=median(abundance),\n",
    "                  abun_quartile_0=quantile(abundance, 0.00),\n",
    "                  abun_quartile_25=quantile(abundance, 0.25),\n",
    "                  abun_quartile_50=quantile(abundance, 0.50),\n",
    "                  abun_quartile_75=quantile(abundance, 0.75),\n",
    "                  abun_quartile_100=quantile(abundance, 1.00)) %>%\n",
    "        arrange(desc(mean_abundance, occr)) %>%\n",
    "        ungroup()\n",
    "\n",
    "    tax_l <- tax_l %>% left_join(tax_occr)\n",
    "    \n",
    "    top_clade_by_abun <- tax_occr %>% arrange(desc(mean_abundance)) %>% slice(1:topn)\n",
    "    tax_l_top_clade <- top_clade_by_abun %>% left_join(tax_l)\n",
    "\n",
    "    other_clade_abun <- \n",
    "        tax_l_top_clade %>%\n",
    "        group_by(sample_id) %>%\n",
    "        summarize(abundance=1-sum(abundance)) %>%\n",
    "        mutate(clade=\"Others\")\n",
    "\n",
    "    tax_l_top_clade_add_others <-\n",
    "        tax_l_top_clade %>%\n",
    "        select(sample_id, abundance, clade) %>%\n",
    "        bind_rows(other_clade_abun)\n",
    "\n",
    "    order_samples_p <-\n",
    "        tax_l_top_clade_add_others %>%\n",
    "        filter(clade==top_clade_by_abun$clade[1]) %>%\n",
    "        arrange(abundance) %>% select(sample_id) %>% as_tibble()\n",
    "    \n",
    "    tax_l_top_clade_add_others_add_metadata <-\n",
    "        tax_l_top_clade_add_others %>%\n",
    "        left_join(metadata) %>%\n",
    "        mutate(sample_id = factor(sample_id, levels=order_samples_p$sample_id),\n",
    "               clade=factor(clade, levels=c(\"Others\", rev(top_clade_by_abun$clade))))\n",
    "    \n",
    "    tax_l_top_clade_add_others_add_metadata_group <-\n",
    "        tax_l_top_clade_add_others_add_metadata %>%\n",
    "        #group_by(Vac_Group, TimePoint, clade) %>%\n",
    "        group_by(TimePoint, clade) %>%\n",
    "        summarise(group_mean_abundance=mean(abundance)) %>%\n",
    "        ungroup() %>%\n",
    "        mutate(abun=paste0(round(group_mean_abundance*100, 1), \"%\")) #%>%\n",
    "        #mutate(clade=factor(clade, levels(c(\"Others\", rev(top_clade_by_abun$clade)))))\n",
    "        #mutate(Tot=sum(group_mean_abundance)) %>%\n",
    "        #group_by(clade) %>%\n",
    "        #mutate(CUM= cumsum(group_mean_abundance), DomSize=max(CUM)) %>%\n",
    "        #ungroup()\n",
    "    \n",
    "    #print(top_clade_by_abun$clade)\n",
    "    #print(tax_l_top_clade_add_others_add_metadata_group)\n",
    "    \n",
    "    #DomBot <- unique(select(tax_l_top_clade_add_others_add_metadata_group, clade, Tot, DomSize)) %>% \n",
    "    #    ungroup() %>% mutate(Bottom=Tot-cumsum(DomSize))\n",
    "    \n",
    "    #tax_l_top_clade_add_others_add_metadata_group <-\n",
    "    #    tax_l_top_clade_add_others_add_metadata_group %>%\n",
    "    #    inner_join(DomBot %>% select(clade, Bottom)) %>%\n",
    "    #    mutate(Pos=Bottom + CUM - group_mean_abundance/2) #%>%\n",
    "       \n",
    "    \n",
    "    #print(tax_l_top_clade_add_others_add_metadata_group)\n",
    "    \n",
    "    return(list(tax=tax_l_top_clade_add_others_add_metadata,\n",
    "                group=tax_l_top_clade_add_others_add_metadata_group,\n",
    "                top=top_clade_by_abun))\n",
    "}"
   ]
  },
  {
   "cell_type": "code",
   "execution_count": 502,
   "id": "5bb19ea8-b55c-4ae2-8843-562090f8a7c3",
   "metadata": {},
   "outputs": [],
   "source": [
    "%%R\n",
    "#tax_p_l <-\n",
    "#    tax_p %>%\n",
    "#    as.data.frame() %>%\n",
    "#    rownames_to_column(\"Phylum\") %>%\n",
    "#    rowwise() %>%\n",
    "#    mutate(Phylum=str_split(Phylum, \"\\\\|\")[[1]][2]) %>%\n",
    "#    ungroup() %>%\n",
    "#    gather(key=\"sample_id\", value=\"Abundance\", -c(Phylum))\n",
    "\n",
    "gen_data2 <- function(tax_l, topn) {\n",
    "    tax_occr <-\n",
    "        tax_l %>%\n",
    "        group_by(clade) %>%\n",
    "        summarize(occr=sum(abundance>0)/length(abundance),\n",
    "                  mean_abundance=sum(abundance)/length(abundance),\n",
    "                  median_abundance=median(abundance),\n",
    "                  abun_quartile_0=quantile(abundance, 0.00),\n",
    "                  abun_quartile_25=quantile(abundance, 0.25),\n",
    "                  abun_quartile_50=quantile(abundance, 0.50),\n",
    "                  abun_quartile_75=quantile(abundance, 0.75),\n",
    "                  abun_quartile_100=quantile(abundance, 1.00)) %>%\n",
    "        arrange(desc(mean_abundance, occr)) %>%\n",
    "        ungroup()\n",
    "\n",
    "    tax_l <- tax_l %>% left_join(tax_occr)\n",
    "    \n",
    "    #top_clade_by_abun <- tax_occr %>% arrange(desc(mean_abundance)) %>% slice(1:topn)\n",
    "    top_clade_by_abun <- tax_occr %>% filter(clade %in% topn)\n",
    "    tax_l_top_clade <- top_clade_by_abun %>% left_join(tax_l)\n",
    "\n",
    "    other_clade_abun <- \n",
    "        tax_l_top_clade %>%\n",
    "        group_by(sample_id) %>%\n",
    "        summarize(abundance=1-sum(abundance)) %>%\n",
    "        mutate(clade=\"Others\")\n",
    "\n",
    "    tax_l_top_clade_add_others <-\n",
    "        tax_l_top_clade %>%\n",
    "        select(sample_id, abundance, clade) %>%\n",
    "        bind_rows(other_clade_abun)\n",
    "\n",
    "    order_samples_p <-\n",
    "        tax_l_top_clade_add_others %>%\n",
    "        filter(clade==top_clade_by_abun$clade[1]) %>%\n",
    "        arrange(abundance) %>% select(sample_id) %>% as_tibble()\n",
    "    \n",
    "    tax_l_top_clade_add_others_add_metadata <-\n",
    "        tax_l_top_clade_add_others %>%\n",
    "        left_join(metadata) %>%\n",
    "        mutate(sample_id = factor(sample_id, levels=order_samples_p$sample_id),\n",
    "               clade=factor(clade, levels=c(\"Others\", rev(top_clade_by_abun$clade))))\n",
    "    \n",
    "    tax_l_top_clade_add_others_add_metadata_group <-\n",
    "        tax_l_top_clade_add_others_add_metadata %>%\n",
    "        #group_by(Vac_Group, TimePoint, clade) %>%\n",
    "        group_by(TimePoint, clade) %>%\n",
    "        summarise(group_mean_abundance=mean(abundance)) %>%\n",
    "        ungroup() %>%\n",
    "        mutate(abun=paste0(round(group_mean_abundance*100, 1), \"%\"))# %>%\n",
    "        #mutate(clade=factor(clade, levels(c(\"Others\", topn))))\n",
    "    #mutate(Tot=sum(group_mean_abundance)) %>%\n",
    "    #group_by(clade) %>%\n",
    "    #mutate(CUM= cumsum(group_mean_abundance), DomSize=max(CUM))\n",
    "    \n",
    "    #DomBot <- unique(select(tax_l_top_clade_add_others_add_metadata_group, clade, Tot, DomSize)) %>% \n",
    "    #    ungroup() %>% mutate(Bottom=Tot-cumsum(DomSize))\n",
    "    \n",
    "    #tax_l_top_clade_add_others_add_metadata_group <-\n",
    "    #    tax_l_top_clade_add_others_add_metadata_group %>%\n",
    "    #    inner_join(DomBot %>% select(clade, Bottom)) %>%\n",
    "    #    mutate(Pos=Bottom + CUM - group_mean_abundance/2)# %>%\n",
    "        #mutate(clade=factor(clade, levels(c(\"Others\", rev(top_clade_by_abun$clade)))))\n",
    "    \n",
    "    return(list(tax=tax_l_top_clade_add_others_add_metadata,\n",
    "                group=tax_l_top_clade_add_others_add_metadata_group,\n",
    "                top=top_clade_by_abun))\n",
    "}"
   ]
  },
  {
   "cell_type": "code",
   "execution_count": 504,
   "id": "6f61bdb1-72e8-4e21-9fe2-40b281a09c2c",
   "metadata": {},
   "outputs": [
    {
     "name": "stdout",
     "output_type": "stream",
     "text": [
      "Joining, by = \"clade\"\n",
      "Joining, by = c(\"clade\", \"occr\", \"mean_abundance\", \"median_abundance\", \"abun_quartile_0\", \"abun_quartile_25\", \"abun_quartile_50\", \"abun_quartile_75\", \"abun_quartile_100\")\n",
      "Joining, by = \"sample_id\"\n",
      "`summarise()` has grouped output by 'TimePoint'. You can override using the `.groups` argument.\n",
      "Joining, by = \"clade\"\n",
      "Joining, by = c(\"clade\", \"occr\", \"mean_abundance\", \"median_abundance\", \"abun_quartile_0\", \"abun_quartile_25\", \"abun_quartile_50\", \"abun_quartile_75\", \"abun_quartile_100\")\n",
      "Joining, by = \"sample_id\"\n",
      "`summarise()` has grouped output by 'TimePoint'. You can override using the `.groups` argument.\n"
     ]
    }
   ],
   "source": [
    "%%R\n",
    "tax_s_top <- gen_data(tax_s_l %>% filter(!str_detect(sample_id, \"HKU171\")))\n",
    "tax_p_top <- gen_data(tax_p_l %>% filter(!str_detect(sample_id, \"HKU171\")), 5)"
   ]
  },
  {
   "cell_type": "code",
   "execution_count": 506,
   "id": "a1a7c74a-e228-41f6-96c1-10e7e503d170",
   "metadata": {},
   "outputs": [
    {
     "name": "stdout",
     "output_type": "stream",
     "text": [
      "Joining, by = \"clade\"\n",
      "Joining, by = c(\"clade\", \"occr\", \"mean_abundance\", \"median_abundance\", \"abun_quartile_0\", \"abun_quartile_25\", \"abun_quartile_50\", \"abun_quartile_75\", \"abun_quartile_100\")\n",
      "Joining, by = \"sample_id\"\n",
      "`summarise()` has grouped output by 'TimePoint'. You can override using the `.groups` argument.\n",
      "Joining, by = \"clade\"\n",
      "Joining, by = c(\"clade\", \"occr\", \"mean_abundance\", \"median_abundance\", \"abun_quartile_0\", \"abun_quartile_25\", \"abun_quartile_50\", \"abun_quartile_75\", \"abun_quartile_100\")\n",
      "Joining, by = \"sample_id\"\n",
      "`summarise()` has grouped output by 'TimePoint'. You can override using the `.groups` argument.\n"
     ]
    }
   ],
   "source": [
    "%%R\n",
    "tax_s1_top <- gen_data2(tax_s_l %>% filter(str_detect(sample_id, \"HKU171\")), tax_s_top$top$clade)\n",
    "tax_p1_top <- gen_data2(tax_p_l %>% filter(str_detect(sample_id, \"HKU171\")), tax_p_top$top$clade)"
   ]
  },
  {
   "cell_type": "code",
   "execution_count": 507,
   "id": "fabd1738-b945-482c-9b04-5239bfa194b9",
   "metadata": {},
   "outputs": [],
   "source": [
    "%%R\n",
    "clade_levels <- levels(tax_s_top$group$clade)\n",
    "tax_s1_top$group$clade <- factor(tax_s1_top$group$clade, levels=clade_levels)\n",
    "tax_s_top$group$clade <- factor(tax_s_top$group$clade, levels=clade_levels)"
   ]
  },
  {
   "cell_type": "code",
   "execution_count": 508,
   "id": "4a09fadc-067c-4401-8aea-2d2357b6fc68",
   "metadata": {},
   "outputs": [],
   "source": [
    "%%R\n",
    "clade_levels2 <- levels(tax_p_top$group$clade)\n",
    "tax_p1_top$group$clade <- factor(tax_p1_top$group$clade, levels=clade_levels2)\n",
    "tax_p_top$group$clade <- factor(tax_p_top$group$clade, levels=clade_levels2)"
   ]
  },
  {
   "cell_type": "markdown",
   "id": "31f6364f-4c8f-452e-bf11-f360f9dbf0d2",
   "metadata": {},
   "source": [
    "## Extended Data Figure 3a"
   ]
  },
  {
   "cell_type": "code",
   "execution_count": 760,
   "id": "d0ccb2ec-57bf-45c5-a746-50f3f9089779",
   "metadata": {},
   "outputs": [
    {
     "data": {
      "image/png": "[encoded data removed]"
     },
     "metadata": {},
     "output_type": "display_data"
    }
   ],
   "source": [
    "%%R -w 800 -h 300\n",
    "\n",
    "phylum_color_values <- c(\"Firmicutes\"=\"#E69F00\",\n",
    "                         \"Bacteroidetes\"=\"#009E73\",\n",
    "                         \"Actinobacteria\"=\"#0072B2\",\n",
    "                         \"Proteobacteria\"=\"#D55E00\",\n",
    "                         \"Verrucomicrobia\"=\"#F0E442\",\n",
    "                         \"Others\"=\"#CC79A7\")\n",
    "\n",
    "p <- ggplot() +\n",
    "    geom_col(data=tax_p_top$group,\n",
    "             aes(x = 4, y = group_mean_abundance, fill = clade)) +\n",
    "    geom_col(data=tax_p1_top$group,\n",
    "             aes(x = 3, y = group_mean_abundance, fill = clade)) +\n",
    "    #geom_bar(stat = \"identity\", color = \"white\") +\n",
    "    coord_polar(theta = \"y\") +\n",
    "    geom_text(aes(y=group_mean_abundance, x=3, label = abun),\n",
    "              position=position_stack(vjust=0.5),\n",
    "              data=tax_p_top$group, size=3, color = \"black\") +\n",
    "    geom_text(aes(y = group_mean_abundance, x=2, label = abun),\n",
    "              position=position_stack(vjust=0.5),\n",
    "              data=tax_p1_top$group, size=3, color = \"black\") +\n",
    "    scale_fill_manual(values=phylum_color_values) +\n",
    "    theme_void()+\n",
    "    #xlim(1, 20) +\n",
    "    #labs(x=NULL, y=NULL) +\n",
    "    facet_wrap(~TimePoint, labeller=labeller(TimePoint=timepoint_labels)) +\n",
    "    theme(strip.text.x = element_text(size = 13),\n",
    "          legend.title = element_text(size = 13,color = \"black\"),\n",
    "          legend.text = element_text(size = 13,color = \"black\"))\n",
    "\n",
    "print(p)\n",
    "ggsave(\"figures/abundance_distribution/HKU171_phylum_donut_chart3.pdf\", p, width=10, height=10)"
   ]
  },
  {
   "cell_type": "markdown",
   "id": "63f06818-42d0-4622-99f3-08fce98aa0fb",
   "metadata": {},
   "source": [
    "##"
   ]
  },
  {
   "cell_type": "markdown",
   "id": "76eae474-f858-4bcf-8c67-04d70f800bd9",
   "metadata": {},
   "source": [
    "## Extended Data Figure 3b"
   ]
  },
  {
   "cell_type": "code",
   "execution_count": null,
   "id": "60018c86-6c9a-44cc-ae78-9e776a27a025",
   "metadata": {},
   "outputs": [],
   "source": [
    "%%R\n",
    "phylum_color_values <- c(\"Firmicutes\"=\"#E69F00\",\n",
    "                         \"Bacteroidetes\"=\"#009E73\",\n",
    "                         \"Actinobacteria\"=\"#0072B2\",\n",
    "                         \"Proteobacteria\"=\"#D55E00\",\n",
    "                         \"Verrucomicrobia\"=\"#F0E442\",\n",
    "                         \"Others\"=\"#CC79A7\") %>% data.frame() %>% rownames_to_column(\"phylum\")\n",
    "colnames(phylum_color_values) <- c(\"phylum\", \"color\")"
   ]
  },
  {
   "cell_type": "code",
   "execution_count": null,
   "id": "faadc0e3-f5c8-43dd-9027-bf42903f7b4a",
   "metadata": {},
   "outputs": [],
   "source": [
    "##"
   ]
  },
  {
   "cell_type": "code",
   "execution_count": null,
   "id": "0d6e3cc2-322c-4107-88b3-9345d5f75f93",
   "metadata": {},
   "outputs": [],
   "source": [
    "%%R\n",
    "gen2_data_mean <- function(tax_l, topn=25) {\n",
    "    tax_occr <-\n",
    "        tax_l %>%\n",
    "        group_by(clade) %>%\n",
    "        summarize(occr=sum(abundance>0)/length(abundance),\n",
    "                  mean_abundance=sum(abundance)/length(abundance),\n",
    "                  median_abundance=median(abundance),\n",
    "                  abun_quartile_0=quantile(abundance, 0.00),\n",
    "                  abun_quartile_25=quantile(abundance, 0.25),\n",
    "                  abun_quartile_50=quantile(abundance, 0.50),\n",
    "                  abun_quartile_75=quantile(abundance, 0.75),\n",
    "                  abun_quartile_100=quantile(abundance, 1.00)) %>%\n",
    "        arrange(desc(mean_abundance, occr)) %>%\n",
    "        #arrange(desc(mean_abundance, median_abundance, occr)) %>%\n",
    "        ungroup()\n",
    "\n",
    "    tax_l <- tax_l %>% left_join(tax_occr)\n",
    "    \n",
    "    top_clade_by_abun <- tax_occr %>% arrange(desc(mean_abundance)) %>% slice(1:topn)\n",
    "    tax_l_top_clade <- top_clade_by_abun %>% left_join(tax_l)\n",
    "\n",
    "    other_clade_abun <- \n",
    "        tax_l_top_clade %>%\n",
    "        group_by(sample_id) %>%\n",
    "        summarize(abundance=1-sum(abundance)) %>%\n",
    "        mutate(clade=\"Others\")\n",
    "\n",
    "    tax_l_top_clade_add_others <-\n",
    "        tax_l_top_clade %>%\n",
    "        select(sample_id, abundance, clade) %>%\n",
    "        bind_rows(other_clade_abun)\n",
    "\n",
    "    order_samples_p <-\n",
    "        tax_l_top_clade_add_others %>%\n",
    "        filter(clade==top_clade_by_abun$clade[1]) %>%\n",
    "        arrange(abundance) %>% select(sample_id) %>% as_tibble()\n",
    "    \n",
    "    tax_l_top_clade_add_others_add_metadata <-\n",
    "        tax_l_top_clade_add_others %>%\n",
    "        left_join(metadata) %>%\n",
    "        mutate(sample_id = factor(sample_id, levels=order_samples_p$sample_id),\n",
    "               clade=factor(clade, levels=c(\"Others\", rev(top_clade_by_abun$clade))))\n",
    "    \n",
    "    tax_l_top_clade_add_others_add_metadata_group <-\n",
    "        tax_l_top_clade_add_others_add_metadata %>%\n",
    "        #group_by(Vac_Group, TimePoint, clade) %>%\n",
    "        group_by(TimePoint, clade) %>%\n",
    "        summarise(group_mean_abundance=mean(abundance)) %>%\n",
    "        ungroup() %>%\n",
    "        mutate(abun=paste0(round(group_mean_abundance*100, 1), \"%\")) #%>%\n",
    "        #mutate(clade=factor(clade, levels(c(\"Others\", rev(top_clade_by_abun$clade)))))\n",
    "        #mutate(Tot=sum(group_mean_abundance)) %>%\n",
    "        #group_by(clade) %>%\n",
    "        #mutate(CUM= cumsum(group_mean_abundance), DomSize=max(CUM)) %>%\n",
    "        #ungroup()\n",
    "    \n",
    "    #print(top_clade_by_abun$clade)\n",
    "    #print(tax_l_top_clade_add_others_add_metadata_group)\n",
    "    \n",
    "    #DomBot <- unique(select(tax_l_top_clade_add_others_add_metadata_group, clade, Tot, DomSize)) %>% \n",
    "    #    ungroup() %>% mutate(Bottom=Tot-cumsum(DomSize))\n",
    "    \n",
    "    #tax_l_top_clade_add_others_add_metadata_group <-\n",
    "    #    tax_l_top_clade_add_others_add_metadata_group %>%\n",
    "    #    inner_join(DomBot %>% select(clade, Bottom)) %>%\n",
    "    #    mutate(Pos=Bottom + CUM - group_mean_abundance/2) #%>%\n",
    "       \n",
    "    \n",
    "    #print(tax_l_top_clade_add_others_add_metadata_group)\n",
    "    \n",
    "    return(list(tax=tax_l_top_clade_add_others_add_metadata,\n",
    "                group=tax_l_top_clade_add_others_add_metadata_group,\n",
    "                top=top_clade_by_abun))\n",
    "}"
   ]
  },
  {
   "cell_type": "code",
   "execution_count": null,
   "id": "77a9e9db-6ef4-456c-8d88-650a4106f516",
   "metadata": {},
   "outputs": [],
   "source": [
    "%%R\n",
    "#tax_p_l <-\n",
    "#    tax_p %>%\n",
    "#    as.data.frame() %>%\n",
    "#    rownames_to_column(\"Phylum\") %>%\n",
    "#    rowwise() %>%\n",
    "#    mutate(Phylum=str_split(Phylum, \"\\\\|\")[[1]][2]) %>%\n",
    "#    ungroup() %>%\n",
    "#    gather(key=\"sample_id\", value=\"Abundance\", -c(Phylum))\n",
    "\n",
    "gen2_data2_mean <- function(tax_l, topn) {\n",
    "    tax_occr <-\n",
    "        tax_l %>%\n",
    "        group_by(clade) %>%\n",
    "        summarize(occr=sum(abundance>0)/length(abundance),\n",
    "                  mean_abundance=sum(abundance)/length(abundance),\n",
    "                  median_abundance=median(abundance),\n",
    "                  abun_quartile_0=quantile(abundance, 0.00),\n",
    "                  abun_quartile_25=quantile(abundance, 0.25),\n",
    "                  abun_quartile_50=quantile(abundance, 0.50),\n",
    "                  abun_quartile_75=quantile(abundance, 0.75),\n",
    "                  abun_quartile_100=quantile(abundance, 1.00)) %>%\n",
    "        arrange(desc(mean_abundance, occr)) %>%\n",
    "        ungroup()\n",
    "\n",
    "    tax_l <- tax_l %>% left_join(tax_occr)\n",
    "    \n",
    "    #top_clade_by_abun <- tax_occr %>% arrange(desc(mean_abundance)) %>% slice(1:topn)\n",
    "    top_clade_by_abun <- tax_occr %>% filter(clade %in% topn)\n",
    "    tax_l_top_clade <- top_clade_by_abun %>% left_join(tax_l)\n",
    "\n",
    "    other_clade_abun <- \n",
    "        tax_l_top_clade %>%\n",
    "        group_by(sample_id) %>%\n",
    "        summarize(abundance=1-sum(abundance)) %>%\n",
    "        mutate(clade=\"Others\")\n",
    "\n",
    "    tax_l_top_clade_add_others <-\n",
    "        tax_l_top_clade %>%\n",
    "        select(sample_id, abundance, clade) %>%\n",
    "        bind_rows(other_clade_abun)\n",
    "\n",
    "    order_samples_p <-\n",
    "        tax_l_top_clade_add_others %>%\n",
    "        filter(clade==top_clade_by_abun$clade[1]) %>%\n",
    "        arrange(abundance) %>% select(sample_id) %>% as_tibble()\n",
    "    \n",
    "    tax_l_top_clade_add_others_add_metadata <-\n",
    "        tax_l_top_clade_add_others %>%\n",
    "        left_join(metadata) %>%\n",
    "        mutate(sample_id = factor(sample_id, levels=order_samples_p$sample_id),\n",
    "               clade=factor(clade, levels=c(\"Others\", rev(top_clade_by_abun$clade))))\n",
    "    \n",
    "    tax_l_top_clade_add_others_add_metadata_group <-\n",
    "        tax_l_top_clade_add_others_add_metadata %>%\n",
    "        #group_by(Vac_Group, TimePoint, clade) %>%\n",
    "        group_by(TimePoint, clade) %>%\n",
    "        summarise(group_mean_abundance=mean(abundance)) %>%\n",
    "        ungroup() %>%\n",
    "        mutate(abun=paste0(round(group_mean_abundance*100, 1), \"%\"))# %>%\n",
    "        #mutate(clade=factor(clade, levels(c(\"Others\", topn))))\n",
    "    #mutate(Tot=sum(group_mean_abundance)) %>%\n",
    "    #group_by(clade) %>%\n",
    "    #mutate(CUM= cumsum(group_mean_abundance), DomSize=max(CUM))\n",
    "    \n",
    "    #DomBot <- unique(select(tax_l_top_clade_add_others_add_metadata_group, clade, Tot, DomSize)) %>% \n",
    "    #    ungroup() %>% mutate(Bottom=Tot-cumsum(DomSize))\n",
    "    \n",
    "    #tax_l_top_clade_add_others_add_metadata_group <-\n",
    "    #    tax_l_top_clade_add_others_add_metadata_group %>%\n",
    "    #    inner_join(DomBot %>% select(clade, Bottom)) %>%\n",
    "    #    mutate(Pos=Bottom + CUM - group_mean_abundance/2)# %>%\n",
    "        #mutate(clade=factor(clade, levels(c(\"Others\", rev(top_clade_by_abun$clade)))))\n",
    "    \n",
    "    return(list(tax=tax_l_top_clade_add_others_add_metadata,\n",
    "                group=tax_l_top_clade_add_others_add_metadata_group,\n",
    "                top=top_clade_by_abun))\n",
    "}"
   ]
  },
  {
   "cell_type": "code",
   "execution_count": 748,
   "id": "1bd9e335-b320-4a4f-855f-8de81e477431",
   "metadata": {},
   "outputs": [
    {
     "name": "stdout",
     "output_type": "stream",
     "text": [
      "Joining, by = \"clade\"\n",
      "Joining, by = c(\"clade\", \"occr\", \"mean_abundance\", \"median_abundance\", \"abun_quartile_0\", \"abun_quartile_25\", \"abun_quartile_50\", \"abun_quartile_75\", \"abun_quartile_100\")\n",
      "Joining, by = \"sample_id\"\n",
      "`summarise()` has grouped output by 'TimePoint'. You can override using the `.groups` argument.\n",
      "Joining, by = \"clade\"\n",
      "Joining, by = c(\"clade\", \"occr\", \"mean_abundance\", \"median_abundance\", \"abun_quartile_0\", \"abun_quartile_25\", \"abun_quartile_50\", \"abun_quartile_75\", \"abun_quartile_100\")\n",
      "Joining, by = \"sample_id\"\n",
      "`summarise()` has grouped output by 'TimePoint'. You can override using the `.groups` argument.\n",
      "Joining, by = \"clade\"\n",
      "Joining, by = \"clade\"\n"
     ]
    }
   ],
   "source": [
    "%%R -w 1000 -h 600\n",
    "tax2_s_top <- gen2_data_mean(tax_s_l %>% filter(!str_detect(sample_id, \"HKU171\")), 12)\n",
    "tax2_s1_top <- gen2_data2_mean(tax_s_l %>% filter(str_detect(sample_id, \"HKU171\")), tax2_s_top$top$clade)\n",
    "\n",
    "clade_phylum <-\n",
    "    tax2_s_top$top %>% select(clade) %>% left_join(species_phylum) %>%\n",
    "    mutate(clade=factor(clade, levels=tax2_s_top$top$clade)) %>%\n",
    "    mutate(y=\"\")    \n",
    "\n",
    "tax2_s_top_c <-\n",
    "    tax2_s_top$group %>% mutate(subjects=\"Others\") %>%\n",
    "    bind_rows(tax2_s1_top$group %>% mutate(subjects=\"HKU171\")) %>%\n",
    "    mutate(subjects=factor(subjects, levels=c(\"HKU171\", \"Others\"))) %>%\n",
    "    filter(!clade==\"Others\") %>%\n",
    "    left_join(species_phylum) %>%\n",
    "    mutate(clade=factor(clade, levels=tax2_s_top$top$clade))"
   ]
  },
  {
   "cell_type": "code",
   "execution_count": 727,
   "id": "9bd69bb8-5eda-4b49-b6b3-d37181cbca1d",
   "metadata": {},
   "outputs": [
    {
     "name": "stdout",
     "output_type": "stream",
     "text": [
      "# A tibble: 12 × 3\n",
      "   clade                        phylum         y    \n",
      "   <fct>                        <chr>          <chr>\n",
      " 1 Faecalibacterium prausnitzii Firmicutes     \"\"   \n",
      " 2 Bacteroides vulgatus         Bacteroidetes  \"\"   \n",
      " 3 Bacteroides uniformis        Bacteroidetes  \"\"   \n",
      " 4 Prevotella copri             Bacteroidetes  \"\"   \n",
      " 5 Bifidobacterium adolescentis Actinobacteria \"\"   \n",
      " 6 Eubacterium rectale          Firmicutes     \"\"   \n",
      " 7 Bacteroides stercoris        Bacteroidetes  \"\"   \n",
      " 8 Roseburia faecis             Firmicutes     \"\"   \n",
      " 9 Bacteroides plebeius         Bacteroidetes  \"\"   \n",
      "10 Blautia wexlerae             Firmicutes     \"\"   \n",
      "11 Eubacterium eligens          Firmicutes     \"\"   \n",
      "12 Alistipes putredinis         Bacteroidetes  \"\"   \n"
     ]
    }
   ],
   "source": [
    "%%R\n",
    "clade_phylum"
   ]
  },
  {
   "cell_type": "code",
   "execution_count": 728,
   "id": "6f4081b9-8875-4286-ba89-37d3a5708051",
   "metadata": {},
   "outputs": [
    {
     "name": "stdout",
     "output_type": "stream",
     "text": [
      " [1] \"Faecalibacterium prausnitzii\" \"Bacteroides vulgatus\"        \n",
      " [3] \"Bacteroides uniformis\"        \"Prevotella copri\"            \n",
      " [5] \"Bifidobacterium adolescentis\" \"Eubacterium rectale\"         \n",
      " [7] \"Bacteroides stercoris\"        \"Roseburia faecis\"            \n",
      " [9] \"Bacteroides plebeius\"         \"Blautia wexlerae\"            \n",
      "[11] \"Eubacterium eligens\"          \"Alistipes putredinis\"        \n"
     ]
    }
   ],
   "source": [
    "%%R\n",
    "tax2_s_top$top$clade"
   ]
  },
  {
   "cell_type": "code",
   "execution_count": 749,
   "id": "6bfabbd0-b975-40f3-aaef-937a61689d76",
   "metadata": {},
   "outputs": [],
   "source": [
    "%%R\n",
    "species_color_12 <- c(\"Faecalibacterium prausnitzii\"=\"#a6cee3\",\n",
    "                      \"Bacteroides uniformis\"=\"#1f78b4\",\n",
    "                      \"Bacteroides vulgatus\"=\"#b2df8a\",\n",
    "                      \"Blautia wexlerae\"=\"#33a02c\",\n",
    "                      \"Eubacterium rectale\"=\"#fb9a99\",\n",
    "                      \"Bifidobacterium adolescentis\"=\"#e31a1c\",\n",
    "                      \"Eubacterium eligens\"=\"#fdbf6f\",\n",
    "                      \"Alistipes putredinis\"=\"#ff7f00\",\n",
    "                      \"Prevotella copri\"=\"#cab2d6\",\n",
    "                      \"Bacteroides plebeius\"=\"#6a3d9a\",\n",
    "                      \"Roseburia faecis\"=\"#ffff99\",\n",
    "                      \"Bacteroides stercoris\"=\"#b15928\")\n",
    "\n",
    "species_color_df <- tribble(\n",
    "    ~clade, ~color_clade,\n",
    "    \"Faecalibacterium prausnitzii\", \"#a6cee3\",\n",
    "    \"Bacteroides uniformis\", \"#1f78b4\",\n",
    "    \"Bacteroides vulgatus\", \"#b2df8a\",\n",
    "    \"Blautia wexlerae\", \"#33a02c\",\n",
    "    \"Eubacterium rectale\", \"#fb9a99\",\n",
    "    \"Bifidobacterium adolescentis\", \"#e31a1c\",\n",
    "    \"Eubacterium eligens\", \"#fdbf6f\",\n",
    "    \"Alistipes putredinis\", \"#ff7f00\",\n",
    "    \"Prevotella copri\", \"#cab2d6\",\n",
    "    \"Bacteroides plebeius\", \"#6a3d9a\",\n",
    "    \"Roseburia faecis\", \"#ffff99\",\n",
    "    \"Bacteroides stercoris\", \"#b15928\")\n",
    "\n",
    "phylum_color <- c(\n",
    "    \"Firmicutes\"=\"#E69F00\",\n",
    "    \"Bacteroidetes\"=\"#009E73\",\n",
    "    \"Actinobacteria\"=\"#0072B2\",\n",
    "    \"Proteobacteria\"=\"#D55E00\",\n",
    "    \"Verrucomicrobia\"=\"#F0E442\",\n",
    "    \"Others\"=\"#CC79A7\")\n",
    "\n",
    "phylum_color_df <- tribble(\n",
    "    ~phylum, ~color_phylum,\n",
    "    \"Firmicutes\", \"#E69F00\",\n",
    "    \"Bacteroidetes\", \"#009E73\",\n",
    "    \"Actinobacteria\", \"#0072B2\",\n",
    "    \"Proteobacteria\", \"#D55E00\",\n",
    "    \"Verrucomicrobia\", \"#F0E442\",\n",
    "    \"Others\", \"#CC79A7\")"
   ]
  },
  {
   "cell_type": "code",
   "execution_count": 750,
   "id": "9701ff46-0996-439d-83a5-b779b79eafba",
   "metadata": {},
   "outputs": [
    {
     "data": {
      "image/png": "[encoded data removed]"
     },
     "metadata": {},
     "output_type": "display_data"
    }
   ],
   "source": [
    "%%R -w 800 -h 500\n",
    "p <- ggplot(tax2_s_top_c %>% filter(!clade==\"Others\"),\n",
    "            aes(x=subjects, y=group_mean_abundance, alluvium=clade, fill=clade)) +\n",
    "    geom_flow(stat=\"alluvium\", color=\"darkgray\") +\n",
    "    geom_stratum(stat=\"alluvium\") +\n",
    "    facet_wrap(~TimePoint, labeller=labeller(TimePoint=timepoint_labels)) +\n",
    "    scale_fill_manual(values=species_color_12) +\n",
    "    scale_color_manual(values=species_color_12) +\n",
    "    ylab(\"Mean abundance\") +\n",
    "    theme(axis.text.y=element_text(size=13, color=\"black\"),\n",
    "          axis.ticks = element_blank(),\n",
    "          panel.grid = element_blank(),\n",
    "          legend.title = element_text(size = 13,color = \"black\"),\n",
    "          legend.text = element_text(size = 13,color = \"black\"),\n",
    "          axis.title = element_text(size = 13,color = \"black\"),\n",
    "          axis.text = element_text(size = 13,color = \"black\")) +\n",
    "    theme(strip.text.x = element_text(size = 13)) +\n",
    "        scale_x_discrete(labels=c(\"D0\" = \"Baseline\", \"M1\" = \"One Month\")) +\n",
    "    theme_pubr(legend=\"right\") +\n",
    "    labs(fill=\"Top12 species\")\n",
    "\n",
    "print(p)\n",
    "ggsave(\n",
    "    \"../results/figures/V1/abundance_distribution/HKU171_vs_others_abundance_distribution_mean_group_top12_alluvial.pdf\",\n",
    "width=8, height=5)"
   ]
  }
 ],
 "metadata": {
  "kernelspec": {
   "display_name": "Python 3 (ipykernel)",
   "language": "python",
   "name": "python3"
  },
  "language_info": {
   "codemirror_mode": {
    "name": "ipython",
    "version": 3
   },
   "file_extension": ".py",
   "mimetype": "text/x-python",
   "name": "python",
   "nbconvert_exporter": "python",
   "pygments_lexer": "ipython3",
   "version": "3.8.10"
  }
 },
 "nbformat": 4,
 "nbformat_minor": 5
}
